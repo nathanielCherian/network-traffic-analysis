{
 "cells": [
  {
   "cell_type": "markdown",
   "id": "ea09521d-2256-4db8-a5e7-a924b24bd03f",
   "metadata": {},
   "source": [
    "# Processing Mirage Data"
   ]
  },
  {
   "cell_type": "code",
   "execution_count": 1,
   "id": "a4652197-4741-47d1-ba4e-a99eda29ecf8",
   "metadata": {},
   "outputs": [],
   "source": [
    "import csv\n",
    "import os\n",
    "import json\n",
    "\n",
    "def convert_file(filename, to_file):\n",
    "    fields = ['five-tuple', 'timestamp','iat', 'packet_size']\n",
    "    with open(filename) as f:\n",
    "        d = json.load(f)\n",
    "        with open(to_file, 'w+',newline='') as csvfile:  \n",
    "            csvwriter = csv.writer(csvfile)\n",
    "            csvwriter.writerow(fields)  \n",
    "            for _,key in enumerate(d):\n",
    "                length = len(d[key]['packet_data']['timestamp'])\n",
    "                for i in range(length):\n",
    "                    csvwriter.writerow([key, d[key]['packet_data']['timestamp'][i], d[key]['packet_data']['iat'][i], d[key]['packet_data']['IP_packet_bytes'][i]])\n",
    "\n",
    "def process_files(directory_path, new_dir_path):\n",
    "    # List all files in the directory\n",
    "    files = os.listdir(directory_path)\n",
    "\n",
    "    i = 0\n",
    "    # Iterate through each file and call the function\n",
    "    for file in files:\n",
    "        file_path = os.path.join(directory_path, file)\n",
    "\n",
    "        # Check if it's a file (not a directory)\n",
    "        if os.path.isfile(file_path):\n",
    "            convert_file(file_path, os.path.join(new_dir_path, str(i)+\".csv\"))\n",
    "            i += 1"
   ]
  },
  {
   "cell_type": "code",
   "execution_count": 2,
   "id": "e9c015c0-4e06-4d2f-8582-05d0863c7bbd",
   "metadata": {},
   "outputs": [],
   "source": [
    "#process_files(r\"data\\MIRAGE-COVID-CCMA-2022\\MIRAGE-COVID-CCMA-2022\\Raw_JSON\\Teams\\Teams\", r\"data\\teams_data\\\\\")"
   ]
  },
  {
   "cell_type": "markdown",
   "id": "8ac24874-cecc-4ba4-af09-a6d5994140a8",
   "metadata": {},
   "source": [
    "# Processing Raw PCAP\n",
    "This will be indiscriminate towards flow."
   ]
  },
  {
   "cell_type": "code",
   "execution_count": 1,
   "id": "b1a78190-dcd6-43ca-9523-ef5abacd478c",
   "metadata": {},
   "outputs": [],
   "source": [
    "from scapy.all import PcapNgReader, UDP, TCP, IP\n",
    "import csv\n",
    "\n",
    "def get_five_tuple(pkt):\n",
    "    if IP in pkt:\n",
    "        src_ip = pkt[IP].src\n",
    "        dst_ip = pkt[IP].dst\n",
    "\n",
    "        if TCP in pkt:\n",
    "            src_port = pkt[TCP].sport\n",
    "            dst_port = pkt[TCP].dport\n",
    "            protocol = \"TCP\"\n",
    "        elif UDP in pkt:\n",
    "            src_port = pkt[UDP].sport\n",
    "            dst_port = pkt[UDP].dport\n",
    "            protocol = \"UDP\"\n",
    "        else:\n",
    "            src_port = dst_port = protocol = None\n",
    "\n",
    "        return ','.join([str(src_ip), str(dst_ip),str(src_port),str(dst_port),str(protocol)])\n",
    "    return None\n",
    "\n",
    "def filter_udp_packets(pcapng_file, to_file, label):\n",
    "    fields = ['five-tuple', 'timestamp','packet_size', 'label']\n",
    "    csvfile = open(to_file, 'w', newline='')\n",
    "    csvwriter = csv.writer(csvfile)\n",
    "    csvwriter.writerow(fields)  \n",
    "    with PcapNgReader(pcapng_file) as pcap_reader:\n",
    "        for pkt in pcap_reader:\n",
    "            if UDP in pkt:\n",
    "                csvwriter.writerow([get_five_tuple(pkt), pkt.time, len(pkt), label])"
   ]
  },
  {
   "cell_type": "code",
   "execution_count": 2,
   "id": "e823fab9-36d7-4a4d-bee6-eed7bb587f28",
   "metadata": {},
   "outputs": [],
   "source": [
    "#filter_udp_packets(r\"data\\pluto\\teams-audio1.pcap\", r\"data\\pluto\\teams-audio1.csv\", -1)"
   ]
  },
  {
   "cell_type": "code",
   "execution_count": 26,
   "id": "f4aaa81d-c2be-49fd-8f18-95b7c67d26fb",
   "metadata": {},
   "outputs": [],
   "source": [
    "with open(r'data\\pluto\\logs.csv', newline='') as csvfile:\n",
    "    reader = csv.reader(csvfile, delimiter=',')\n",
    "    next(reader, None)\n",
    "    for file_base, label in reader:\n",
    "        filter_udp_packets(f\"data\\\\pluto\\\\{file_base}.pcap\", f\"data\\\\pluto\\\\{file_base}.csv\", label)"
   ]
  },
  {
   "cell_type": "code",
   "execution_count": null,
   "id": "8256b7e8-5f95-4ad6-865a-c6b7e80b2354",
   "metadata": {},
   "outputs": [],
   "source": [
    "import pandas as pd\n",
    "\n",
    "def calc_interarrival():\n",
    "    with open(r'data\\pluto\\logs.csv', newline='') as csvfile:\n",
    "        reader = csv.reader(csvfile, delimiter=',')\n",
    "        next(reader, None)\n",
    "        for file_base, label in reader:\n",
    "            "
   ]
  },
  {
   "cell_type": "markdown",
   "id": "fcd8d65e-1708-4eef-b4ca-5fe7a4c8eb28",
   "metadata": {},
   "source": [
    "## Pluto V2\n",
    "Take a bidirectional flow and split it into ingress egress"
   ]
  },
  {
   "cell_type": "code",
   "execution_count": 12,
   "id": "773a8467-200f-4d7b-95ec-d00b6cff5f27",
   "metadata": {},
   "outputs": [],
   "source": [
    "import csv\n",
    "\n",
    "def create_csv_file(pcapng_file, to_file, label):\n",
    "    fields = ['five-tuple', 'timestamp','packet_size', 'label']\n",
    "    csvfile = open(to_file, 'w', newline='')\n",
    "    csvwriter = csv.writer(csvfile)\n",
    "    csvwriter.writerow(fields)  \n",
    "    with PcapNgReader(pcapng_file) as pcap_reader:\n",
    "        for pkt in pcap_reader:\n",
    "            csvwriter.writerow([get_five_tuple(pkt), pkt.time, len(pkt), label])\n",
    "    csvfile.close()\n",
    "\n",
    "def parse_file_list(filename):\n",
    "    with open(filename, newline='') as csvfile:\n",
    "        reader = csv.reader(csvfile, delimiter=',')\n",
    "        for file_base, label in reader:\n",
    "            create_csv_file(f\"data\\\\pluto\\\\new-bidirectional\\\\{file_base}.pcapng\", f\"data\\\\pluto\\\\new-bidirectional\\\\{file_base}.csv\", label)\n",
    "            print(\"finished \" + file_base)"
   ]
  },
  {
   "cell_type": "code",
   "execution_count": null,
   "id": "c110e9cc-cd45-427e-8415-553eb74a766a",
   "metadata": {},
   "outputs": [
    {
     "name": "stdout",
     "output_type": "stream",
     "text": [
      "finished AmazonPrime10\n",
      "finished AmazonPrime11\n",
      "finished AmazonPrime12\n",
      "finished TeamsAudio10\n"
     ]
    }
   ],
   "source": [
    "parse_file_list(r'data\\pluto\\new-bidirectional\\files.txt')"
   ]
  },
  {
   "cell_type": "code",
   "execution_count": null,
   "id": "67902fb4-611b-4a72-93b2-7a088f267482",
   "metadata": {},
   "outputs": [],
   "source": []
  }
 ],
 "metadata": {
  "kernelspec": {
   "display_name": "Python 3 (ipykernel)",
   "language": "python",
   "name": "python3"
  },
  "language_info": {
   "codemirror_mode": {
    "name": "ipython",
    "version": 3
   },
   "file_extension": ".py",
   "mimetype": "text/x-python",
   "name": "python",
   "nbconvert_exporter": "python",
   "pygments_lexer": "ipython3",
   "version": "3.11.5"
  }
 },
 "nbformat": 4,
 "nbformat_minor": 5
}

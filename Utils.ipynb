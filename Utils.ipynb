{
 "cells": [
  {
   "cell_type": "markdown",
   "id": "ea09521d-2256-4db8-a5e7-a924b24bd03f",
   "metadata": {},
   "source": [
    "# Processing Mirage Data"
   ]
  },
  {
   "cell_type": "code",
   "execution_count": 1,
   "id": "a4652197-4741-47d1-ba4e-a99eda29ecf8",
   "metadata": {},
   "outputs": [],
   "source": [
    "import csv\n",
    "import os\n",
    "import json\n",
    "\n",
    "def convert_file(filename, to_file):\n",
    "    fields = ['five-tuple', 'timestamp','iat', 'packet_size']\n",
    "    with open(filename) as f:\n",
    "        d = json.load(f)\n",
    "        with open(to_file, 'w+',newline='') as csvfile:  \n",
    "            csvwriter = csv.writer(csvfile)\n",
    "            csvwriter.writerow(fields)  \n",
    "            for _,key in enumerate(d):\n",
    "                length = len(d[key]['packet_data']['timestamp'])\n",
    "                for i in range(length):\n",
    "                    csvwriter.writerow([key, d[key]['packet_data']['timestamp'][i], d[key]['packet_data']['iat'][i], d[key]['packet_data']['IP_packet_bytes'][i]])\n",
    "\n",
    "def process_files(directory_path, new_dir_path):\n",
    "    # List all files in the directory\n",
    "    files = os.listdir(directory_path)\n",
    "\n",
    "    i = 0\n",
    "    # Iterate through each file and call the function\n",
    "    for file in files:\n",
    "        file_path = os.path.join(directory_path, file)\n",
    "\n",
    "        # Check if it's a file (not a directory)\n",
    "        if os.path.isfile(file_path):\n",
    "            convert_file(file_path, os.path.join(new_dir_path, str(i)+\".csv\"))\n",
    "            i += 1"
   ]
  },
  {
   "cell_type": "code",
   "execution_count": 2,
   "id": "e9c015c0-4e06-4d2f-8582-05d0863c7bbd",
   "metadata": {},
   "outputs": [],
   "source": [
    "#process_files(r\"data\\MIRAGE-COVID-CCMA-2022\\MIRAGE-COVID-CCMA-2022\\Raw_JSON\\Teams\\Teams\", r\"data\\teams_data\\\\\")"
   ]
  },
  {
   "cell_type": "markdown",
   "id": "8ac24874-cecc-4ba4-af09-a6d5994140a8",
   "metadata": {},
   "source": [
    "# Processing Raw PCAP\n",
    "This will be indiscriminate towards flow."
   ]
  },
  {
   "cell_type": "code",
   "execution_count": 24,
   "id": "b1a78190-dcd6-43ca-9523-ef5abacd478c",
   "metadata": {},
   "outputs": [],
   "source": [
    "from scapy.all import PcapNgReader, UDP, TCP, IP\n",
    "import csv\n",
    "\n",
    "def get_five_tuple(pkt):\n",
    "    if IP in pkt:\n",
    "        src_ip = pkt[IP].src\n",
    "        dst_ip = pkt[IP].dst\n",
    "\n",
    "        if TCP in pkt:\n",
    "            src_port = pkt[TCP].sport\n",
    "            dst_port = pkt[TCP].dport\n",
    "            protocol = \"TCP\"\n",
    "        elif UDP in pkt:\n",
    "            src_port = pkt[UDP].sport\n",
    "            dst_port = pkt[UDP].dport\n",
    "            protocol = \"UDP\"\n",
    "        else:\n",
    "            src_port = dst_port = protocol = None\n",
    "\n",
    "        return ','.join([str(src_ip), str(dst_ip),str(src_port),str(dst_port),str(protocol)])\n",
    "    return None\n",
    "\n",
    "def filter_udp_packets(pcapng_file, to_file, label):\n",
    "    fields = ['five-tuple', 'timestamp','packet_size', 'label']\n",
    "    csvfile = open(to_file, 'w', newline='')\n",
    "    csvwriter = csv.writer(csvfile)\n",
    "    csvwriter.writerow(fields)  \n",
    "    with PcapNgReader(pcapng_file) as pcap_reader:\n",
    "        for pkt in pcap_reader:\n",
    "            if UDP in pkt:\n",
    "                csvwriter.writerow([get_five_tuple(pkt), pkt.time, len(pkt), label])"
   ]
  },
  {
   "cell_type": "code",
   "execution_count": 17,
   "id": "e823fab9-36d7-4a4d-bee6-eed7bb587f28",
   "metadata": {},
   "outputs": [],
   "source": [
    "filter_udp_packets(r\"data\\pluto\\teams-audio1.pcap\", r\"data\\pluto\\teams-audio1.csv\", -1)"
   ]
  },
  {
   "cell_type": "code",
   "execution_count": 26,
   "id": "f4aaa81d-c2be-49fd-8f18-95b7c67d26fb",
   "metadata": {},
   "outputs": [],
   "source": [
    "with open(r'data\\pluto\\logs.csv', newline='') as csvfile:\n",
    "    reader = csv.reader(csvfile, delimiter=',')\n",
    "    next(reader, None)\n",
    "    for file_base, label in reader:\n",
    "        filter_udp_packets(f\"data\\\\pluto\\\\{file_base}.pcap\", f\"data\\\\pluto\\\\{file_base}.csv\", label)"
   ]
  },
  {
   "cell_type": "code",
   "execution_count": null,
   "id": "d13527a9-862e-470f-9ca1-cff19513b2bc",
   "metadata": {},
   "outputs": [],
   "source": [
    "import pandas as pd\n",
    "\n",
    "def calc_interarrival():\n",
    "    with open(r'data\\pluto\\logs.csv', newline='') as csvfile:\n",
    "        reader = csv.reader(csvfile, delimiter=',')\n",
    "        next(reader, None)\n",
    "        for file_base, label in reader:\n",
    "            "
   ]
  }
 ],
 "metadata": {
  "kernelspec": {
   "display_name": "Python 3 (ipykernel)",
   "language": "python",
   "name": "python3"
  },
  "language_info": {
   "codemirror_mode": {
    "name": "ipython",
    "version": 3
   },
   "file_extension": ".py",
   "mimetype": "text/x-python",
   "name": "python",
   "nbconvert_exporter": "python",
   "pygments_lexer": "ipython3",
   "version": "3.11.5"
  }
 },
 "nbformat": 4,
 "nbformat_minor": 5
}

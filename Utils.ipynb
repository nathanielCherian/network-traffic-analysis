{
 "cells": [
  {
   "cell_type": "code",
   "execution_count": 1,
   "id": "fd6a06f3-933e-4714-8cf7-ba15768ad998",
   "metadata": {},
   "outputs": [],
   "source": [
    "import csv\n",
    "import os\n",
    "import json\n",
    "\n",
    "def convert_file(filename, to_file):\n",
    "    fields = ['five-tuple', 'timestamp','iat', 'packet_size']\n",
    "    with open(filename) as f:\n",
    "        d = json.load(f)\n",
    "        with open(to_file, 'w+',newline='') as csvfile:  \n",
    "            csvwriter = csv.writer(csvfile)\n",
    "            csvwriter.writerow(fields)  \n",
    "            for _,key in enumerate(d):\n",
    "                length = len(d[key]['packet_data']['timestamp'])\n",
    "                for i in range(length):\n",
    "                    csvwriter.writerow([key, d[key]['packet_data']['timestamp'][i], d[key]['packet_data']['iat'][i], d[key]['packet_data']['IP_packet_bytes'][i]])\n",
    "\n",
    "def process_files(directory_path, new_dir_path):\n",
    "    # List all files in the directory\n",
    "    files = os.listdir(directory_path)\n",
    "\n",
    "    i = 0\n",
    "    # Iterate through each file and call the function\n",
    "    for file in files:\n",
    "        file_path = os.path.join(directory_path, file)\n",
    "\n",
    "        # Check if it's a file (not a directory)\n",
    "        if os.path.isfile(file_path):\n",
    "            convert_file(file_path, os.path.join(new_dir_path, str(i)+\".csv\"))\n",
    "            i += 1"
   ]
  },
  {
   "cell_type": "code",
   "execution_count": 2,
   "id": "e9c015c0-4e06-4d2f-8582-05d0863c7bbd",
   "metadata": {},
   "outputs": [],
   "source": [
    "process_files(r\"data\\MIRAGE-COVID-CCMA-2022\\MIRAGE-COVID-CCMA-2022\\Raw_JSON\\Teams\\Teams\", r\"data\\teams_data\\\\\")"
   ]
  },
  {
   "cell_type": "code",
   "execution_count": null,
   "id": "8b68082a-50bb-4e0f-9324-7f5718dee390",
   "metadata": {},
   "outputs": [],
   "source": []
  }
 ],
 "metadata": {
  "kernelspec": {
   "display_name": "Python 3 (ipykernel)",
   "language": "python",
   "name": "python3"
  },
  "language_info": {
   "codemirror_mode": {
    "name": "ipython",
    "version": 3
   },
   "file_extension": ".py",
   "mimetype": "text/x-python",
   "name": "python",
   "nbconvert_exporter": "python",
   "pygments_lexer": "ipython3",
   "version": "3.11.5"
  }
 },
 "nbformat": 4,
 "nbformat_minor": 5
}
